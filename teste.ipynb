{
 "cells": [
  {
   "cell_type": "code",
   "execution_count": 1,
   "metadata": {},
   "outputs": [
    {
     "name": "stdout",
     "output_type": "stream",
     "text": [
      "Desculpe, você não adivinhou o número secreto. Tente novamente!\n"
     ]
    }
   ],
   "source": [
    "import random\n",
    "\n",
    "\n",
    "numero_secreto = (random.randint(1, 10))\n",
    "#print(numero_secreto)\n",
    "chute = int(input(\"Tente adivinhar o número secreto entre 1 e 10: \"))\n",
    "\n",
    "if chute == numero_secreto:\n",
    "    \n",
    "    # Se o usuário adivinhar corretamente, imprime uma mensagem de sucesso\n",
    "    print(\"Parabéns! Você adivinhou o número secreto.\")\n",
    "\n",
    "else:\n",
    "    \n",
    "    # Se o usuário adivinhar errado, imprime uma mensagem de erro\n",
    "    print(\"Desculpe, você não adivinhou o número secreto. Tente novamente!\")"
   ]
  },
  {
   "cell_type": "code",
   "execution_count": 1,
   "metadata": {},
   "outputs": [
    {
     "name": "stdout",
     "output_type": "stream",
     "text": [
      "Vc pode votar\n"
     ]
    }
   ],
   "source": [
    "idade = int(input(\"Informe sua idade: \"))\n",
    "\n",
    "if idade >= 18:\n",
    "    print(\"Vc pode votar\")\n",
    "else:\n",
    "    print(\"Vc ainda não pode votar\")    "
   ]
  },
  {
   "cell_type": "code",
   "execution_count": 4,
   "metadata": {},
   "outputs": [
    {
     "name": "stdout",
     "output_type": "stream",
     "text": [
      "Insuficiente\n"
     ]
    }
   ],
   "source": [
    "nota = int(input(\"Informe a nota do estudante: \"))\n",
    "\n",
    "if nota >= 90 and nota <= 100 :\n",
    "    print(\"Excelente\")\n",
    "elif nota >= 70 and nota <= 89 :\n",
    "    print(\"Bom\")\n",
    "elif nota >= 50 and nota <= 69 :\n",
    "    print(\"Satisfatório\")\n",
    "else:\n",
    "    print(\"Insuficiente\")"
   ]
  },
  {
   "cell_type": "code",
   "execution_count": 14,
   "metadata": {},
   "outputs": [
    {
     "name": "stdout",
     "output_type": "stream",
     "text": [
      "Seu desconto será de 50.10. Valor total da compra R$ 450.90\n"
     ]
    }
   ],
   "source": [
    "valor = float(input(\"Informe o valor da compra: \"))\n",
    "\n",
    "if valor > 1000:\n",
    "    desc = valor * 0.2\n",
    "    total = valor - desc\n",
    "    print(f\"Seu desconto será de {desc:.2f}. Valor total da compra R$ {total:.2f}\")\n",
    "\n",
    "elif valor > 500 and valor <= 1000:\n",
    "    desc = valor * 0.1\n",
    "    total= valor - desc\n",
    "    print(f\"Seu desconto será de {desc:.2f}. Valor total da compra R$ {total:.2f}\")\n",
    "else:\n",
    "    print(\"Infelizmente esse valor não recebe desconto.\")"
   ]
  },
  {
   "cell_type": "code",
   "execution_count": 17,
   "metadata": {},
   "outputs": [
    {
     "name": "stdout",
     "output_type": "stream",
     "text": [
      "Número ímpar\n"
     ]
    }
   ],
   "source": [
    "n = int(input(\"Digite um número positivo e inteiro: \"))\n",
    "\n",
    "if (n % 2 == 0):\n",
    "    print(f\" O número {n} é par\")\n",
    "else:\n",
    "    print(f\" O número {n} é ímpar\")  "
   ]
  },
  {
   "cell_type": "code",
   "execution_count": 18,
   "metadata": {},
   "outputs": [
    {
     "name": "stdout",
     "output_type": "stream",
     "text": [
      "PAR\n"
     ]
    }
   ],
   "source": [
    "n = int(input(\"Digite um número positivo e inteiro: \"))\n",
    "\n",
    "r = \"PAR\" if n % 2 == 0 else \"ÍMPAR\"\n",
    "\n",
    "print(r)"
   ]
  }
 ],
 "metadata": {
  "kernelspec": {
   "display_name": "Python 3",
   "language": "python",
   "name": "python3"
  },
  "language_info": {
   "codemirror_mode": {
    "name": "ipython",
    "version": 3
   },
   "file_extension": ".py",
   "mimetype": "text/x-python",
   "name": "python",
   "nbconvert_exporter": "python",
   "pygments_lexer": "ipython3",
   "version": "3.11.6"
  }
 },
 "nbformat": 4,
 "nbformat_minor": 2
}
