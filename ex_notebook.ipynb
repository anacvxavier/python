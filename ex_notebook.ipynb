{
 "cells": [
  {
   "cell_type": "code",
   "execution_count": null,
   "metadata": {},
   "outputs": [],
   "source": [
    "import random\n",
    "\n",
    "\n",
    "numero_secreto = (random.randint(1, 10))\n",
    "#print(numero_secreto)\n",
    "chute = int(input(\"Tente adivinhar o número secreto entre 1 e 10: \"))\n",
    "\n",
    "if chute == numero_secreto:\n",
    "    \n",
    "    # Se o usuário adivinhar corretamente, imprime uma mensagem de sucesso\n",
    "    print(\"Parabéns! Você adivinhou o número secreto.\")\n",
    "\n",
    "else:\n",
    "    \n",
    "    # Se o usuário adivinhar errado, imprime uma mensagem de erro\n",
    "    print(\"Desculpe, você não adivinhou o número secreto. Tente novamente!\")"
   ]
  },
  {
   "cell_type": "code",
   "execution_count": null,
   "metadata": {},
   "outputs": [],
   "source": [
    "idade = int(input(\"Informe sua idade: \"))\n",
    "\n",
    "if idade >= 18:\n",
    "    print(\"Vc pode votar\")\n",
    "else:\n",
    "    print(\"Vc ainda não pode votar\")    "
   ]
  },
  {
   "cell_type": "code",
   "execution_count": null,
   "metadata": {},
   "outputs": [],
   "source": [
    "nota = int(input(\"Informe a nota do estudante: \"))\n",
    "\n",
    "if nota >= 90 and nota <= 100 :\n",
    "    print(\"Excelente\")\n",
    "elif nota >= 70 and nota <= 89 :\n",
    "    print(\"Bom\")\n",
    "elif nota >= 50 and nota <= 69 :\n",
    "    print(\"Satisfatório\")\n",
    "else:\n",
    "    print(\"Insuficiente\")"
   ]
  },
  {
   "cell_type": "code",
   "execution_count": null,
   "metadata": {},
   "outputs": [],
   "source": [
    "valor = float(input(\"Informe o valor da compra: \"))\n",
    "\n",
    "if valor > 1000:\n",
    "    desc = valor * 0.2\n",
    "    total = valor - desc\n",
    "    print(f\"Seu desconto será de {desc:.2f}. Valor total da compra R$ {total:.2f}\")\n",
    "\n",
    "elif valor > 500 and valor <= 1000:\n",
    "    desc = valor * 0.1\n",
    "    total= valor - desc\n",
    "    print(f\"Seu desconto será de {desc:.2f}. Valor total da compra R$ {total:.2f}\")\n",
    "else:\n",
    "    print(\"Infelizmente esse valor não recebe desconto.\")"
   ]
  },
  {
   "cell_type": "code",
   "execution_count": null,
   "metadata": {},
   "outputs": [],
   "source": [
    "n = int(input(\"Digite um número positivo e inteiro: \"))\n",
    "\n",
    "if (n % 2 == 0):\n",
    "    print(f\" O número {n} é par\")\n",
    "else:\n",
    "    print(f\" O número {n} é ímpar\")  "
   ]
  },
  {
   "cell_type": "code",
   "execution_count": null,
   "metadata": {},
   "outputs": [],
   "source": [
    "n = int(input(\"Digite um número positivo e inteiro: \"))\n",
    "\n",
    "r = \"PAR\" if n % 2 == 0 else \"ÍMPAR\"\n",
    "\n",
    "print(r)"
   ]
  },
  {
   "cell_type": "code",
   "execution_count": null,
   "metadata": {},
   "outputs": [],
   "source": [
    "c = int(input(\"Digite um número: \"))\n",
    "\n",
    "score = \"baixo\" if c <50 else \"médio\" if c <80 else \"alta\"\n",
    "\n",
    "print(f\"{c} é\", score)"
   ]
  },
  {
   "cell_type": "code",
   "execution_count": null,
   "metadata": {},
   "outputs": [],
   "source": [
    "#idade = 25  # Altere esse valor para testar diferentes faixas etárias\n",
    "\n",
    "idade = int(input(\"Sua idade: \"))\n",
    "\n",
    "# Escreva sua estrutura condicional abaixo\n",
    "\n",
    "if idade <= 12:\n",
    "    print(\"Infantil\")\n",
    "elif idade >= 13 and idade <= 17 :\n",
    "    print(\"Adolescente\")\n",
    "elif idade >=18 and idade <= 59:\n",
    "    print(\"Adulto\")\n",
    "else:\n",
    "    print(\"Idoso\")"
   ]
  },
  {
   "cell_type": "code",
   "execution_count": null,
   "metadata": {},
   "outputs": [],
   "source": [
    "s = \"123\"\n",
    "senha = input(\"Digite a senha: \")\n",
    "\n",
    "while (s != senha):\n",
    "    print(\"Tente novamente\")\n",
    "    senha = input(\"Digite a senha: \")\n",
    "\n",
    "print(\"Senha correta\")"
   ]
  },
  {
   "cell_type": "code",
   "execution_count": null,
   "metadata": {},
   "outputs": [],
   "source": [
    "soma = 0\n",
    "n = int(input(\"Digite um número inteiro ou 0 para sair: \"))\n",
    "\n",
    "while n != 0:\n",
    "    soma+= n\n",
    "    n = int(input(\"Digite um número inteiro ou 0 para sair: \"))\n",
    "\n",
    "print(\"Total: \", soma)"
   ]
  },
  {
   "cell_type": "code",
   "execution_count": null,
   "metadata": {},
   "outputs": [],
   "source": [
    "maior = -1\n",
    "n = int(input(\"Digite um número positivo e inteiro: \"))\n",
    "\n",
    "while n >= 0:\n",
    "    if n > maior:\n",
    "        maior = n\n",
    "    n = int(input(\"Digite um número positivo e inteiro: \"))\n",
    "print(\"Maior número:\", maior)"
   ]
  },
  {
   "cell_type": "code",
   "execution_count": null,
   "metadata": {},
   "outputs": [],
   "source": [
    "\"\"\"\n",
    "Exercício: Simulação de Caixa Eletrônico\n",
    "\n",
    "Objetivo: Desenvolver um programa em Python que simula as \n",
    "operações básicas de um caixa eletrônico. O usuário deve ser capaz de \n",
    "verificar o saldo, depositar dinheiro, sacar dinheiro e sair do programa.\n",
    "\n",
    "Requisitos:\n",
    "\n",
    "    Verificar Saldo:\n",
    "    \n",
    "        - Ao escolher essa opção, o programa deve exibir o saldo atual da conta.\n",
    "\n",
    "    Depositar Dinheiro:\n",
    "    \n",
    "        - O usuário deve ser capaz de inserir uma quantia para depositar na conta.\n",
    "        - A quantia deve ser positiva.\n",
    "        - Após um depósito bem-sucedido, o saldo da conta deve ser atualizado e uma \n",
    "        mensagem de confirmação deve ser exibida.\n",
    "\n",
    "    Sacar Dinheiro:\n",
    "    \n",
    "        - O usuário deve ser capaz de inserir uma quantia para sacar da conta.\n",
    "        - A quantia deve ser positiva e não deve exceder o saldo atual.\n",
    "        - Após um saque bem-sucedido, o saldo da conta deve ser \n",
    "        atualizado e uma mensagem de confirmação deve ser exibida.\n",
    "\n",
    "    Sair:\n",
    "    \n",
    "        - O usuário deve ser capaz de sair do programa escolhendo essa opção.\n",
    "\n",
    "    Validação de Entrada:\n",
    "    \n",
    "        - O programa deve lidar com entradas inválidas de forma adequada, exibindo mensagens de erro quando aplicável.\n",
    "\n",
    "    Interface de Usuário:\n",
    "    \n",
    "        - O programa deve exibir um menu de opções para o usuário e permitir \n",
    "        a seleção de ações a serem realizadas.\n",
    "        - As opções do menu devem ser apresentadas em um loop, permitindo \n",
    "        múltiplas operações até que o usuário escolha sair.\n",
    "        \n",
    "            Caixa Eletrônico\n",
    "            1 - Verificar Saldo\n",
    "            2 - Depositar Dinheiro\n",
    "            3 - Sacar Dinheiro\n",
    "            4 - Sair\n",
    "            Escolha uma opção (1-4):\n",
    "\n",
    "    Saldo Inicial:\n",
    "    \n",
    "        - A conta deve começar com um saldo inicial de R$ 1000.00.\n",
    "\n",
    "Instruções:\n",
    "\n",
    "    - Comece inicializando o saldo e entrando em um loop que apresente o menu de opções.\n",
    "    - Implemente cada operação como descrito nos requisitos.\n",
    "    - Certifique-se de testar todas as opções e cenários possíveis para garantir que \n",
    "    o programa funcione corretamente.\n",
    "\n",
    "\n",
    "Dica: Você pode usar condicionais if, elif, e else juntamente com um loop while \n",
    "para gerenciar as seleções do usuário e manter o programa em execução \n",
    "até que a opção de sair seja escolhida.\n",
    "\n",
    "\"\"\"\n",
    "\n",
    "saldo = 1000.00  # Define o saldo inicial da conta\n",
    "\n",
    "# Inicia um loop infinito que continuará até que o usuário escolha a opção de sair\n",
    "while True:\n",
    "    \n",
    "    # Imprime as opções do menu disponíveis para o usuário\n",
    "    print(\"\\nCaixa Eletrônico\")\n",
    "    print(\"1 - Verificar Saldo\")\n",
    "    print(\"2 - Depositar Dinheiro\")\n",
    "    print(\"3 - Sacar Dinheiro\")\n",
    "    print(\"4 - Sair\")\n",
    "    \n",
    "    opcao = input(\"Escolha uma opção (1-4): \")  # Solicita que o usuário escolha uma opção\n",
    "\n",
    "    # Verifica a opção escolhida pelo usuário e executa a ação correspondente\n",
    "    if opcao == '1':\n",
    "        \n",
    "        print(f\"Seu saldo é: R$ {saldo:.2f}\")  # Imprime o saldo atual da conta\n",
    "        \n",
    "    elif opcao == '2':\n",
    "        \n",
    "        deposito = float(input(\"Digite o valor do depósito: R$ \"))  # Solicita o valor do depósito\n",
    "        \n",
    "        if deposito > 0:  # Verifica se o valor do depósito é positivo\n",
    "            \n",
    "            #saldo = saldo + deposito\n",
    "            saldo += deposito  # Adiciona o valor do depósito ao saldo\n",
    "            print(f\"Depósito de R$ {deposito:.2f} realizado com sucesso!\")  # Confirma o depósito\n",
    "            \n",
    "        else:\n",
    "            \n",
    "            print(\"Valor de depósito inválido.\")  # Informa que o valor do depósito é inválido\n",
    "            \n",
    "    elif opcao == '3':\n",
    "        \n",
    "        saque = float(input(\"Digite o valor do saque: R$ \"))  # Solicita o valor do saque\n",
    "        \n",
    "        if saque > 0 and saque <= saldo:  # Verifica se o valor do saque é válido e se há saldo suficiente\n",
    "            \n",
    "            saldo -= saque  # Subtrai o valor do saque do saldo\n",
    "            \n",
    "            print(f\"Saque de R$ {saque:.2f} realizado com sucesso!\")  # Confirma o saque\n",
    "            \n",
    "        else:\n",
    "            \n",
    "            print(\"Valor de saque inválido ou saldo insuficiente.\")  # Informa que o valor do saque é inválido ou que não há saldo suficiente\n",
    "    \n",
    "    elif opcao == '4':\n",
    "    \n",
    "        print(\"Obrigado por utilizar o nosso caixa eletrônico. Até mais!\")  # Agradece o usuário e prepara-se para sair do loop\n",
    "        \n",
    "        break  # Sai do loop, terminando o programa\n",
    "    \n",
    "    else:\n",
    "    \n",
    "        print(\"Opção inválida. Por favor, tente novamente.\")  # Informa ao usuário que ele escolheu uma opção inválida e continua o loop\n",
    "            \n"
   ]
  },
  {
   "cell_type": "code",
   "execution_count": null,
   "metadata": {},
   "outputs": [],
   "source": [
    "\n",
    "while True:\n",
    "    print(\"\\nCalculadora\")\n",
    "    print(\"1 - Adição\")\n",
    "    print(\"2 - Subtração\")\n",
    "    print(\"3 - Multiplicação\")\n",
    "    print(\"4 - Divisão\")\n",
    "    print(\"5 - Sair\")\n",
    "\n",
    "    opcao = input(\"Escolha uma opção (1-5): \")\n",
    "\n",
    "    if opcao == \"5\":\n",
    "        print(\"Até mais!\")\n",
    "        break\n",
    "    \n",
    "    n1 = float(input(\"Primeiro número: \"))\n",
    "    n2 = float(input(\"Segundo número: \"))\n",
    "\n",
    "    if opcao == \"1\":\n",
    "        r = n1 + n2\n",
    "        print(r)\n",
    "    elif opcao == \"2\":\n",
    "        r = n1 - n2\n",
    "        print(r)\n",
    "    elif opcao == \"3\":\n",
    "        r = n1 * n2\n",
    "        print(r)\n",
    "    elif opcao == \"4\":\n",
    "        r = n1 / n2\n",
    "        print(r)\n",
    "    else:\n",
    "        print(\"Opção inválida, tente novamente.\")\n",
    "\n"
   ]
  },
  {
   "cell_type": "code",
   "execution_count": 4,
   "metadata": {},
   "outputs": [
    {
     "name": "stdout",
     "output_type": "stream",
     "text": [
      "x: 5, y: 15\n",
      "x: 6, y: 14\n",
      "x: 7, y: 13\n",
      "x: 8, y: 12\n",
      "x: 9, y: 11\n",
      "Loop concluído\n",
      "Valores finais de x: 10 e y: 10\n"
     ]
    }
   ],
   "source": [
    "x, y = 5, 15\n",
    "\n",
    "while x < 10 and y > 10:\n",
    "    #print(f\"x = {x}, y = {y}\")\n",
    "    print(f\"x: {x}, y: {y}\")\n",
    "\n",
    "    x+=1\n",
    "\n",
    "    y-=1\n",
    "\n",
    "print(\"Loop concluído\")\n",
    "print(f\"Valores finais de x: {x} e y: {y}\")"
   ]
  },
  {
   "cell_type": "code",
   "execution_count": 6,
   "metadata": {},
   "outputs": [
    {
     "name": "stdout",
     "output_type": "stream",
     "text": [
      "Multiplicado por 1, o resultado parcial é 1\n",
      "Multiplicado por 2, o resultado parcial é 2\n",
      "Multiplicado por 3, o resultado parcial é 6\n",
      "Multiplicado por 4, o resultado parcial é 24\n",
      "Multiplicado por 5, o resultado parcial é 120\n",
      "O resultado final da multiplicação de 1 a 5 é 120\n"
     ]
    }
   ],
   "source": [
    "r = 1\n",
    "\n",
    "for n in range (1, 6):\n",
    "    r *= n\n",
    "    print(f\"Multiplicado por {n}, o resultado parcial é {r}\")\n",
    "print(f\"O resultado final da multiplicação de 1 a 5 é {r}\")\n"
   ]
  },
  {
   "cell_type": "code",
   "execution_count": 14,
   "metadata": {},
   "outputs": [
    {
     "name": "stdout",
     "output_type": "stream",
     "text": [
      "Número: 2 + 0 = 2\n",
      "Número: 4 + 2 = 6\n",
      "Número: 6 + 6 = 12\n",
      "Número: 8 + 12 = 20\n",
      "A soma dos números pares de 1 até 9 é 20\n"
     ]
    }
   ],
   "source": [
    "N = int(input(\"Escreva um número inteiro positivo: \"))\n",
    "\n",
    "soma = 0\n",
    "\n",
    "for i in range (1 , N+1):\n",
    "    \n",
    "    if i % 2 == 0:\n",
    "        print(f\"Número: {i} + {soma} = {i + soma}\")\n",
    "\n",
    "        soma += i\n",
    "\n",
    "print(f\"A soma dos números pares de 1 até {N} é {soma}\")"
   ]
  }
 ],
 "metadata": {
  "kernelspec": {
   "display_name": "Python 3",
   "language": "python",
   "name": "python3"
  },
  "language_info": {
   "codemirror_mode": {
    "name": "ipython",
    "version": 3
   },
   "file_extension": ".py",
   "mimetype": "text/x-python",
   "name": "python",
   "nbconvert_exporter": "python",
   "pygments_lexer": "ipython3",
   "version": "3.11.6"
  }
 },
 "nbformat": 4,
 "nbformat_minor": 2
}
