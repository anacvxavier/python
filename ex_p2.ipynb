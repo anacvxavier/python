{
 "cells": [
  {
   "cell_type": "code",
   "execution_count": 6,
   "metadata": {},
   "outputs": [
    {
     "name": "stdout",
     "output_type": "stream",
     "text": [
      "O número informado é -10.0.\n",
      "O número é PAR\n",
      "O número é NEGATIVO\n"
     ]
    }
   ],
   "source": [
    "info_numero = float(input(\"Informe um número inteiro: \"))\n",
    "\n",
    "print(f\"O número informado é {info_numero}.\")\n",
    "\n",
    "if info_numero % 2 == 0:\n",
    "    print(\"O número é PAR\")\n",
    "else:\n",
    "    print(\"O número é ÍMPAR\") \n",
    "\n",
    "\n",
    "if info_numero > 0: \n",
    "    print(\"O número é POSITIVO\")\n",
    "elif info_numero == 0:\n",
    "    print(\"O número é igual a ZERO\")\n",
    "else:\n",
    "    print(\"O número é NEGATIVO\")\n",
    "\n",
    "if info_numero > 0:\n",
    "    print(\"Sua raiz quadrada é \", info_numero**(1/2))\n",
    "\n"
   ]
  }
 ],
 "metadata": {
  "kernelspec": {
   "display_name": "Python 3",
   "language": "python",
   "name": "python3"
  },
  "language_info": {
   "codemirror_mode": {
    "name": "ipython",
    "version": 3
   },
   "file_extension": ".py",
   "mimetype": "text/x-python",
   "name": "python",
   "nbconvert_exporter": "python",
   "pygments_lexer": "ipython3",
   "version": "3.11.6"
  }
 },
 "nbformat": 4,
 "nbformat_minor": 2
}
